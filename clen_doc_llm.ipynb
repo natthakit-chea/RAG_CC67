{
 "cells": [
  {
   "cell_type": "code",
   "execution_count": 10,
   "metadata": {},
   "outputs": [],
   "source": [
    "import pandas as pd\n",
    "from docx import Document, types\n",
    "import docx\n",
    "import unicodedata\n",
    "import re\n",
    "import os\n",
    "import glob\n",
    "# doc = Document(\"/Users/kong/Documents/เอกสารประกาศ KB/25.ตรวจคัดกรองมะเร็งปากมดลูก/ตรวจคัดกรองมะเร็งปากมดลูก.docx\")\n",
    "def read_docx_table(document, table_num=1, nheader=1):\n",
    "    table = document.tables[table_num-1]\n",
    "    data = [[re.sub(r'\\s+',' ',unicodedata.normalize(\"NFKD\",cell.text).replace('\\n','').replace('\\t','').strip()) for cell in row.cells] for row in table.rows]\n",
    "    df = pd.DataFrame(data)\n",
    "    if nheader == 1:\n",
    "        df = df.rename(columns=df.iloc[0]).drop(df.index[0]).reset_index(drop=True)\n",
    "    elif nheader == 2:\n",
    "        outside_col, inside_col = df.iloc[0], df.iloc[1]\n",
    "        hier_index = pd.MultiIndex.from_tuples(list(zip(outside_col, inside_col)))\n",
    "        df = pd.DataFrame(data, columns=hier_index).drop(df.index[[0,1]]).reset_index(drop=True)\n",
    "    elif nheader > 2:\n",
    "        raise Exception(\"More than two headers not currently supported\")\n",
    "    return df\n",
    "\n",
    "def read_p_tb(path):\n",
    "    doc = Document(path)\n",
    "    tb_count = 1\n",
    "    passages = ['']\n",
    "    passage = ''\n",
    "    for idx , element in enumerate(doc.element.body):\n",
    "        id = len(passages)\n",
    "        if id == 0:\n",
    "            id = 0\n",
    "        else:\n",
    "            id -= 1\n",
    "        # print(element.tag)\n",
    "        if element.tag.endswith('p'):  # Check if the element is a paragraph\n",
    "            paragraph = element\n",
    "            line = paragraph.text\n",
    "            line = unicodedata.normalize(\"NFKD\",line).replace('\\n','').replace('\\t','').strip()\n",
    "            line = re.sub(r'\\s+',' ',line)\n",
    "            if line not in ['',' ']:\n",
    "                if len(passage)+len(line)<8001:\n",
    "                    passage+=' '+line\n",
    "                    passages[id] = passage\n",
    "                else:\n",
    "                    passage = line\n",
    "                    passages.append(passage)\n",
    "                # print(line)  # Print or process the paragraph text\n",
    "        elif element.tag.endswith('tbl'):  # Check if the element is a table\n",
    "            tb = read_docx_table(doc, table_num=tb_count, nheader=1)\n",
    "            tb_dict = f\"ตารางมีคอลัมน์ {list(tb.columns)}: {tb.to_dict('records')}\"\n",
    "            if len(passage)+len(tb_dict)<8001:\n",
    "                passage+=' '+tb_dict\n",
    "                passages[id] = passage\n",
    "            else:\n",
    "                passage = tb_dict\n",
    "                passages.append(passage)\n",
    "            # print(tb_dict)\n",
    "            tb_count+=1\n",
    "\n",
    "        elif element.tag.endswith('sectPr'):\n",
    "            pass\n",
    "\n",
    "    return passages\n",
    "\n",
    "def upadate_new_docx(path,data_path):\n",
    "    data = pd.read_csv(data_path)\n",
    "    passages = read_p_tb(path)\n",
    "    file_name = [os.path.basename(path).split('.')[0]] * len(passages)\n",
    "    file_path = [path]* len(passages)\n",
    "    for i in range(len(passages)):\n",
    "        new_data = {'File_name':file_name[i],'File_path':file_path[i],'Passage':passages[i]}\n",
    "        data = data._append(new_data, ignore_index = True)\n",
    "    # print(data['Passage'])\n",
    "    data.to_csv(data_path,index=False)\n",
    "    print('update success')\n",
    "\n",
    "# read_docx_table(doc).to_dict('records')"
   ]
  },
  {
   "cell_type": "code",
   "execution_count": 11,
   "metadata": {},
   "outputs": [
    {
     "data": {
      "text/plain": [
       "[' ตรวจคัดกรองมะเร็งปากมดลูก กลุ่มเป้าหมาย : หญิงที่มีสัญชาติไทย มีเลขบัตรประจําตัวประชาชน 13 หลัก ทุกสิทธิการรักษา รวมถึงสิทธิว่าง (ยกเว้นต่างด้าว) 1. อายุ 30 - 59 ปี ทุกคน 2. อายุ 15-29 ปีที่มีความเสี่ยงสูง ทั้งนี้ขึ้นอยู่ดุลยพินิจของแพทย์สั่งตรวจคัดกรอง เช่น มีคู่นอนหลายคน มีเพศสัมพันธ์ตั้งแต่อายุยังน้อย หรือมีเพศสัมพันธ์โดยไม่ใส่ถุงยางอนามัย หมายเหตุ : สปสช.ประชาสัมพันธ์ผ่าน Facebook live เชิญชวน หากมีผู้ประกอบการ บริษัท โรงงาน หน่วยงาน องค์กรต่างๆ ฯลฯ ติดต่อมา 1330 ต้องการให้หน่วยบริการลงพื้นที่เพื่อตรวจคัดกรองมะเร็งปากลูกหรือตรวจด้วยตนเองด้วยวิธี HPV Self test ให้กับพนักงานหญิงจํานวนมาก ให้1330 รับเรื่องเข้ามาก่อน เปิดประเด็นบริการ--->การตรวจคัดกรองมะเร็งปากมดลูก ---โอนทีมคุ้มครองสิทธิ ทางทีมคุ้มครองสิทธิจะประสานสปสช.เขตในพื้นที่เพื่อจัดหาหน่วยบริการลงพื้นที่ตรวจให้ //กรณีพื้นที่กทม. เงื่อนไขคือ จะต้องมีพนักงานหญิง อายุ 30-59 ปี จํานวน 30 คนขึ้นไป ให้1330 รับเรื่องเข้ามาและทีมคุ้มครองสิทธิ ประสานคุณรุ่งระวี เจ้าหน้าที่สปสช. กทม ได้เลย (อัปเดต 15/1/67 เวลา 14.00 น.) ข่าวเริ่มแคมเปญ”ตรวจมะเร็งปากมดลูกด้วยตัวเอง”สปสช.ชวนผู้ประกอบการติดต่อ 1330 ประสานจัดบริการแก่ พนง. https://www.nhso.go.th/news/4180 วิธีการใช้สิทธิ แสดงบัตรประจําตัวประชาชน / เด็กอายุต่ํากว่า 15 ปี ใช้สูติบัตรหรือบัตรประจําตัวประชาชนเด็กเข้ารับบริการ ดังนี้ กทม.---- > ติดต่อ ศูนย์/คลินิก ตจว. ----- >ติดต่อ รพ.สต./รพ.รัฐใกล้บ้าน หรือจองคิวเข้ารับบริการผ่านแอปเป๋าตัง ปัจจุบันให้ประชาชนคนไทยทุกสิทธิการรักษาสามารถจองได้ หมายเหตุ ไม่ต้องแนะนํา รพ.ระดับตติยภูมิใหญ่ๆ / รพ.โรงเรียนแพทย์ /รพ.สังกัดกระทรวงศึกษาธิการ มหาวิทยาลัยต่างๆ เช่น รพ.ศิริราช รพ.รามาธิบดี รพ.จุฬาลงกรณ์ รพ.ราชวิถี รพ.พระมงกุฎเกล้า รพ.สมเด็จพระปิ่นเกล้า รพ.ธรรมศาสตร์ เป็นต้น เพื่อลดความแออัด ยกเว้น ผู้รับบริการไปอยู่หน้างานแล้ว หากมีปัญหาการใช้สิทธิให้รับเรื่องประสาน สิทธิประโยชน์ : ตรวจคัดกรองมะเร็งปากมดลูก ได้ 1 ครั้ง/ 5 ปี ซึ่งการตรวจคัดกรองมี 3 วิธี ได้แก่ ตารางมีคอลัมน์ [\\'รายการ\\', \\'รายละเอียด\\']: [{\\'รายการ\\': \\'1. วิธี Pap smear (แป๊บ สเมียร์)\\', \\'รายละเอียด\\': \\'คือ วิธีการตรวจคัดกรองหาระยะก่อนเป็นมะเร็งปากมดลูก แพทย์จะใช้เครื่องมือสอดผ่านและถ่างช่องคลอด จากนั้นทําการป้ายเซลล์จากมดลูกส่งตรวจทางห้องปฏิบัติการเพื่อตรวจหาเซลล์ที่ผิดปกติ\\'}, {\\'รายการ\\': \\'2. วิธี visual inspection with acetic acid (VIA)\\', \\'รายละเอียด\\': \\'คือ การตรวจด้วยน้ําส้มสายชู (Visual inspection with acetic acid: VIA) เพื่อคัดกรองรอยโรคก่อนมะเร็งปากมดลูกโดยการใช้สารละลาย Acetic acid เจือจาง 3-5% ชโลมบนปากมดลูกนาน 1 นาที แล้วสังเกตดูการเปลี่ยนแปลงของสีเยื่อบุปากมดลูกหน่วยบริการที่จะให้บริการตรวจคัดกรองด้วยวิธี VIA ต้องเป็นหน่วยเดิมที่เคยดําเนินการอยู่ใน 32 จังหวัด ได้แก่ ร้อยเอ็ด หนองคาย บึงกาฬ อํานาจเจริญ ยโสธร สุราษฎร์ธานี อุตรดิตถ์ เชียงใหม่ นครศรีธรรมราช น่าน เพชรบูรณ์ ตาก กระบี่ ลพบุรี สระแก้ว สมุทรปราการ สระบุรี แม่ฮ่องสอน ตรัง สตูล สมุทรสาคร ชัยนาท อําเภอนิคมคําสร้อยจังหวัดมุกดาหาร พิษณุโลก นครสวรรค์ นครราชสีมา ราชบุรี ชลบุรี อุบลราชธานี ขอนแก่น ยะลา และกําแพงเพชร\\'}, {\\'รายการ\\': \\'3. วิธี HPV DNA Test\\', \\'รายละเอียด\\': \\'คือ การตรวจหาดีเอ็นเอของเชื้อไวรัสเอชพีวีที่ก่อให้เกิดมะเร็งปากมดลูก วิธีนี้มีความไวในการตรวจหาเซลล์ผิดปกติสูงมาก โดยมีวิธีการตรวจเหมือนตรวจภายใน คือเก็บเซลล์บริเวณตัวอย่างที่ปากมดลูกช่องคลอดด้านใน ส่งตรวจเหมือนวิธีการตรวจด้วยน้ํายา ซึ่งสามารถที่จะตรวจหาเซลล์และแยกน้ํายาเพื่อจะตรวจหาเชื้อ HPV DNA\\'}, {\\'รายการ\\': \\'หมายเหตุ : การเลือกวิธีตรวจคัดกรองขึ้นกับดุลพินิจของแพทย์ แพทย์จะประเมินตามความเหมาะสม\\', \\'รายละเอียด\\': \\'หมายเหตุ : การเลือกวิธีตรวจคัดกรองขึ้นกับดุลพินิจของแพทย์ แพทย์จะประเมินตามความเหมาะสม\\'}] 📌 ช่องทางการตรวจสอบสิทธิประโยชน์บริการสร้างเสริมสุขภาพ PP (พีพี แพลตฟอร์ม) ด้วยตนเอง มี 3 ช่องทาง ดังนี้ (เมื่อวันที่ 10 ส.ค. 66 ที่ผ่านมา สปสช.ชวนคนไทย \"\"เช็คสิทธิตรวจสุขภาพฟรี\" ผ่านช่องทางใหม่ เรียกว่า \"พีพี แพลตฟอร์ม\") ➡️ 1. ช่องทาง ไลน์ OA สปสช. @nhso ➡️ 2. ช่องทาง แอปพลิเคชั่น สปสช. ➡️ 3. หน้าเว็บไซต์หลัก สปสช. 5.1. ขั้นตอนการเข้าใช้งานแต่ละช่องทางมีขั้นตอน ดังนี้ ➡️ 1. ช่องทาง ไลน์ OA สปสช. @nhso ⏩ เลือก เมนู เช็คสิทธิ ตรวจสุขภาพฟรี ➡️ 2. ช่องทาง แอปพลิเคชั่น สปสช. ⏩ เลือก เมนู เช็คสิทธิบริการ สร้างเสริมสุขภาพ ➡️ 3. ช่องทาง หน้าเว็บไซต์หลัก สปสช. www.nhso.go.th เลือกเมนู ⏩ เช็คสิทธิบริการสร้างเสริมสุขภาพ บริการสร้างเสริมสุขภาพและป้องกันโรค ⏩ ลิงก์เข้าใช้งาน https://ppplatform.nhso.go.th/web/form/login ⏩ Login เข้าใช้งาน ⏩ กรอกเลขบัตรประชาชน วัน/เดือน/ปี เกิด จากนั้นกดบันทึกข้อมูล ⏩ ระบบจะโชว์หัวข้อ สร้างเสริมสุขภาพและป้องกันโรค โดยประชาชนสามารถคลิกเข้าไปตรวจสอบได้ว่า รับบริการใดได้บ้าง เมื่อเลือกบริการเรียบร้อยแล้ว ระบบจะโชว์หน่วยบริการใกล้เคียงให้ทราบว่ามีหน่วยบริการใดบ้าง ช่องทางดังกล่าว จะดูบริการ PP ได้เท่านั้น แต่ไม่สามารถจองรับบริการได้ หากประชาชนต้องการจอง แนะนําจองผ่าน App เป๋าตัง หรือเข้ารับบริการหน่วยบริการในระบบ สปสช. ตามเงื่อนไข อัตราการจ่ายชดเชย การบันทึกเบิกของหน่วยบริการ 1. หน่วยบริการที่ขึ้นทะเบียนกับ สปสช.เขต 1 - 12 ให้บันทึกข้อมูลการคัดกรองมะเร็งปากมดลูก ผ่านโปรแกรม e-Claim มายัง สปสช. ทุกเดือนหรือทุกวัน 2. หน่วยบริการที่ขึ้นทะเบียนกับ สปสช.เขต 13 กทม. ให้บันทึกข้อมูลการคัดกรองมะเร็งปากมดลูก ผ่านโปรแกรม Krungthai Digital Health Platform ตารางมีคอลัมน์ [\\'รายการ\\', \\'ครั้งละ (บาท)\\']: [{\\'รายการ\\': \\'1. pap smear\\', \\'ครั้งละ (บาท)\\': \\'250\\'}, {\\'รายการ\\': \\'2. visual inspection with acetic acid (VIA)\\', \\'ครั้งละ (บาท)\\': \\'250\\'}, {\\'รายการ\\': \\'3. HPV DNA Test\\', \\'ครั้งละ (บาท)\\': \\'1. ค่าบริการเก็บตัวอย่าง จ่ายแบบเหมาจ่าย ในอัตรา 50 บาทต่อครั้ง2. ค่าตรวจทางห้องปฏิบัติการ รวมค่าบริหารจัดการ- กรณีใช้น้ํายาตรวจชนิด 2 สายพันธุ์ (HPV type16,18 other) จ่ายแบบเหมาจ่าย ในอัตรา 280 บาทต่อครั้ง- กรณีใช้น้ํายาตรวจชนิดตั้งแต่ 14 สายพันธุ์ขึ้นไป (HPV 14 type fully ) จ่ายแบบเหมาจ่าย ในอัตรา 370 บาทต่อครั้ง\\'}, {\\'รายการ\\': \\'4. การตรวจยืนยันกรณีผลตรวจคัดกรองมะเร็งปากมดลูกผิดปกติ ได้แก่ - การตรวจด้วยวิธี Liquid base cytology (LBC) - บริการตรวจยืนยันด้วยวิธี Colposcope รวมการตัดชิ้นเนื้อ (Biopsy หรือ LEEP) และตรวจทางพยาธิวิทยา\\', \\'ครั้งละ (บาท)\\': \\'250 900\\'}]']"
      ]
     },
     "execution_count": 11,
     "metadata": {},
     "output_type": "execute_result"
    }
   ],
   "source": [
    "path = \"/Users/kong/Documents/mod/RAG_CC67/folder_rag/ตรวจคัดกรองมะเร็งปากมดลูก.docx\"\n",
    "passage = read_p_tb(path)\n",
    "passage"
   ]
  },
  {
   "cell_type": "code",
   "execution_count": 274,
   "metadata": {},
   "outputs": [
    {
     "data": {
      "text/plain": [
       "\" บริการฟื้นฟูสมรรถภาพด้านการแพทย์ 1. คนพิการได้รับอุปกรณ์เครื่องช่วยคนพิการตามความจําเป็นอย่างทั่วถึงและครอบคลุม 2. คนพิการ ผู้สูงอายุที่จําเป็นต้องได้รับการฟื้นฟูสมรรถภาพด้านการแพทย์และผู้ป่วยที่จําเป็นต้องได้รับการฟื้นฟูสมรรถภาพด้านการแพทย์ ได้รับบริการด้านการฟื้นฟูสมรรถภาพด้านการแพทย์อย่างต่อเนื่องทั้งในหน่วยบริการและในชุมชน 3. ส่งเสริมให้เกิดความร่วมมือระหว่างหน่วยบริการ องค์กรปกครองส่วนท้องถิ่น องค์กรคนพิการองค์กรภาคีที่เกี่ยวข้อง และชุ มชน ในการพัฒนารูปแบบการดูแล ช่วยเหลือ สนับสนุน และให้บริการฟื้นฟูสมรรถภาพแก่กลุ่มเป้าหมายร่วมกัน ทั้งในหน่วยบริการและในชุมชนอย่างยั่งยืน 1. กลุ่มเป้าหมาย ครอบคลุมผู้มีสิทธิหลักประกันสุขภาพแห่งชาติ 3 กลุ่ม ดังนี้ 1. คนพิการ (รหัสสิทธิย่อย 74) 2. ผู้สูงอายุที่จําเป็นต้องได้รับการฟื้นฟูสมรรถภาพด้านการแพทย์ 3. ผู้ป่วยที่จําเป็นต้องได้รับการฟื้นฟูสมรรถภาพด้านการแพทย์ 2. สิทธิประโยชน์ที่ได้รับ ครอบคลุมบริการ ค่าอุปกรณ์เครื่องช่วยสําหรับคนพิการ ค่าบริการฟื้นฟูสมรรถภาพด้านการแพทย์ระยะกลาง (Intermediate care :IMC) การฝึกทักษะการดํารงชีวิตอิสระสําหรับคนพิการทางร่างกายและการเคลื่อนไหว (Independent Living) ค่าฝึกใช้อุปกรณ์เครื่องช่วยคนพิการ การฝึกทักษะการทําความคุ้นเคยกับสภาพแวดล้อม และการเคลื่อนไหว (Orientation & Mobility: Q&M) และการจ่ายชดเชยเพื่อบริการฟื้นฟูสมรรภาพด้านการแพทย์สําหรับหน่วยบริการที่ให้บริการฟื้นฟูสมรรภาพในหน่วยบริการแบบ OPD 3. วิธีการใช้สิทธิ ยื่นบัตรประจําตัวประชาชน หรือบัตรประจําตัวคนพิการ ติดต่อที่หน่วยบริการตามสิทธิของตนเอง ยกเว้น สิทธิย่อยคนพิการหากมีความจําเป็นสามารถเข้ารับบริการกับหน่วยบริการของรัฐได้ทุกแห่ง 4. เงื่อนไขแล้วอัตราการเบิกจ่าย โปรแกรมที่ใช้บันทึกข้อมูล และการประมวลผล 1. หน่วยงานในพื้นที่ สํานักงานหลักประกันสุขภาพแห่งชาติ เขต 1-12 บันทึกข้อมูลผลงานบริการผ่านโปรแกรมบันทึกข้อมูลเบิกอุปกรณ์คนพิการและการให้บริการฟื้นฟูสมรรถภาพ (Disability Portal) 2. หน่วยงานในพื้นที่ สํานักงานหลักประกันสุขภาพแห่งชาติ เขต 13 บันทึกข้อมูลผลงานบริการผ่านโปรแกรม OPBKK claim โดยบริการฟื้นฟูสมรรถภาพด้านการแพทย์อื่นๆ ในปีงบประมาณ 2566 บันทึกผ่าน โปรแกรม e-claim 3. การประมวลผลเพื่อจ่ายชดเชยค่าบริการผ่านโปรแกรม Seamless for DMIS 5. โปรแกรมที่ใช้บันทึกข้อมูล และการประมวลผล 1. หน่วยงานในพื้นที่ สํานักงานหลักประกันสุขภาพแห่งชาติ เขต 1-12 บันทึกข้อมูลผลงานบริการผ่านโปรแกรมบันทึกข้อมูลเบิกอุปกรณ์คนพิการและการให้บริการฟื้นฟูสมรรถภาพ (Disability Portal) 2. หน่วยงานในพื้นที่ สํานักงานหลักประกันสุขภาพแห่งชาติ เขต 13 บันทึกข้อมูลผลงานบริการผ่านโปรแกรม OPBKK claim โดยบริการฟื้นฟูสมรรถภาพด้านการแพทย์อื่นๆ ในปีงบประมาณ 2566 บันทึกผ่าน โปรแกรม e-claim 3. การประมวลผลเพื่อจ่ายชดเชยค่าบริการผ่านโปรแกรม Seamless for DMIS ตารางมีคอลัมน์ ['หัวข้อ', 'Rehab service', 'อัตราการจ่าย', 'Remark']: [{'หัวข้อ': 'บริการฟื้นฟูสมรรถภาพ', 'Rehab service': 'บริการฯ 9 รายการเดิม', 'อัตราการจ่าย': 'Point system With ceiling', 'Remark': 'คงเดิม'}, {'หัวข้อ': 'อุปกรณ์เครื่องช่วยความพิการ', 'Rehab service': '76 รายการ', 'อัตราการจ่าย': 'รายการอัตรา', 'Remark': 'คงเดิม'}, {'หัวข้อ': 'บริการ O&M', 'Rehab service': 'ฝึก O&M 1 โปรแกรม', 'อัตราการจ่าย': 'รายการอัตรา', 'Remark': 'คงเดิม'}, {'หัวข้อ': 'รายการเพิ่มใหม่ในปี 2564', 'Rehab service': 'รายการเพิ่มใหม่ในปี 2564', 'อัตราการจ่าย': 'รายการเพิ่มใหม่ในปี 2564', 'Remark': 'รายการเพิ่มใหม่ในปี 2564'}, {'หัวข้อ': 'ศูนย์บริการคนพิการทั่วไป', 'Rehab service': 'บริการฯ 9 รายการเดิม', 'อัตราการจ่าย': 'Point system With ceiling', 'Remark': ''}, {'หัวข้อ': 'ศูนย์บริการคนพิการทั่วไป', 'Rehab service': 'ให้บริการ O&M', 'อัตราการจ่าย': 'รายการอัตรา', 'Remark': ''}, {'หัวข้อ': 'ศูนย์บริการคนพิการทั่วไป', 'Rehab service': 'ให้บริการ IL', 'อัตราการจ่าย': 'รายการอัตรา 9,000 บาท / 1 คน', 'Remark': 'จ่าย 2 ครั้ง'}, {'หัวข้อ': 'บริการ Intensive care IMC', 'Rehab service': 'กายภาพบําบัด กิจกรรม บําบัดและแก้ไขการพูด', 'อัตราการจ่าย': 'รายการอัตรา 150 บาท / ครั้ง ในระยะ 6 เดือน ไม่เกิน 30 ครั้ง (รวม 4,500 บาท)', 'Remark': 'จ่ายรายเดือน'}] บริการฟื้นฟูสมรรถภาพด้านการแพทย์อื่นๆ โดยหน่วยบริการจัดบริการแบบผู้ป่วยนอกของหน่วยบริการ มี 9 รายการ ได้แก่ ตารางมีคอลัมน์ ['ลําดับ', 'กิจกรรม', 'อัตราจ่ายรายบุคคล', 'อัตราจ่ายรายบุคคล', 'อัตราจ่ายรายกลุ่ม', 'อัตราจ่ายรายกลุ่ม']: [{'ลําดับ': 'ลําดับ', 'กิจกรรม': 'กิจกรรม', 'อัตราจ่ายรายบุคคล': 'ครั้ง/วัน', 'อัตราจ่ายรายกลุ่ม': 'ครั้ง/วัน'}, {'ลําดับ': '1', 'กิจกรรม': 'กายภาพบําบัด', 'อัตราจ่ายรายบุคคล': '150', 'อัตราจ่ายรายกลุ่ม': '-'}, {'ลําดับ': '2', 'กิจกรรม': 'กิจกรรมบําบัด', 'อัตราจ่ายรายบุคคล': '150', 'อัตราจ่ายรายกลุ่ม': '75'}, {'ลําดับ': '3', 'กิจกรรม': 'การแก้ไขการพูด', 'อัตราจ่ายรายบุคคล': '150', 'อัตราจ่ายรายกลุ่ม': '75'}, {'ลําดับ': '4', 'กิจกรรม': 'จิตบําบัด', 'อัตราจ่ายรายบุคคล': '300', 'อัตราจ่ายรายกลุ่ม': '150'}, {'ลําดับ': '5', 'กิจกรรม': 'พฤติกรรมบําบัด', 'อัตราจ่ายรายบุคคล': '300', 'อัตราจ่ายรายกลุ่ม': '150'}, {'ลําดับ': '6', 'กิจกรรม': 'ฟื้นฟูการได้ยิน', 'อัตราจ่ายรายบุคคล': '150', 'อัตราจ่ายรายกลุ่ม': '-'}, {'ลําดับ': '7', 'กิจกรรม': 'ฟื้นฟูสมรรถภาพการเห็น', 'อัตราจ่ายรายบุคคล': '150', 'อัตราจ่ายรายกลุ่ม': '75'}, {'ลําดับ': '8', 'กิจกรรม': 'Early Intervention', 'อัตราจ่ายรายบุคคล': '150', 'อัตราจ่ายรายกลุ่ม': '75'}, {'ลําดับ': '9', 'กิจกรรม': 'Phenol block', 'อัตราจ่ายรายบุคคล': '500', 'อัตราจ่ายรายกลุ่ม': '-'}] หมายเหตุ : สปสช. จ่ายชดเชยค่าบริการตามระบบ Point system with celling ของรายการบริการ (Free Schedule) อัตราบริการอุปกรณ์เครื่องช่วยคนพิการ จํานวน 9 รายการ จ่ายตามจริงไม่เกินราคากลาง ตารางมีคอลัมน์ ['รหัสอุปกรณ์', 'รายการอุปกรณ์', 'ราคากลาง']: [{'รหัสอุปกรณ์': '8706', 'รายการอุปกรณ์': 'ไม้ค้ํายันรักแร้แบบอลูมิเนียม', 'ราคากลาง': '650'}, {'รหัสอุปกรณ์': '8707', 'รายการอุปกรณ์': 'ไม้เท้าอลูมิเนียมแบบสามขา', 'ราคากลาง': '600'}, {'รหัสอุปกรณ์': '8708', 'รายการอุปกรณ์': 'ไม้เท้าสําหรับคนตาบอดพับได้ด้วยสายยืดหยุ่นชนิดมีด้าม', 'ราคากลาง': '500'}, {'รหัสอุปกรณ์': '8711', 'รายการอุปกรณ์': 'ไม้ค้ํายันรักแร้แบบไม้', 'ราคากลาง': '350'}, {'รหัสอุปกรณ์': '8901', 'รายการอุปกรณ์': 'รถนั่งคนพิการชนิดพับได้ทําด้วยโลหะ แบบปรับให้เหมาะสมกับความพิการได้', 'ราคากลาง': '6,600'}, {'รหัสอุปกรณ์': '8902', 'รายการอุปกรณ์': 'รถนั่งคนพิการชนิดพับได้ทําด้วยโลหะแบบปรับไม่ได้', 'ราคากลาง': '4,400'}, {'รหัสอุปกรณ์': '8903', 'รายการอุปกรณ์': 'เบาะรองนั่งสําหรับคนพิการ', 'ราคากลาง': '800'}, {'รหัสอุปกรณ์': '8904', 'รายการอุปกรณ์': 'รถสามล้อโยกมาตรฐานสําหรับคนพิการ', 'ราคากลาง': '6,000'}, {'รหัสอุปกรณ์': '9001', 'รายการอุปกรณ์': 'แผ่นรองตัวสําหรับผู้ป่วยอัมพาตหรือที่นอนลม', 'ราคากลาง': '1,000'}] หมายเหตุ : หน่วยบริการบันทึกข้อมูลผลงานบริการผ่าน โปรแกรม Disability portal ตามปกติ สปสช.จะส่งข้อมูลบริการเหล่านี้ในจังหวัดที่มีกองทุนฯ ไปยังโปรแกรม pfr.nhso.go.th เพื่อให้กองทุน ฯ จ่ายค่าบริการ การตรวจสอบข้อมูลผลงานบริการฟื้นฟูสมรรถภาพด้านการแพทย์ และรายการอุปกรณ์ เครื่องช่วยความพิการ เพื่อพิจารณาจ่ายชดเชยค่าบริการให้กับหน่วยบริการในพื้นที่ ได้ที่โปรแกรมระบบบริหารจัดการกองทุนฟื้นฟูสมรรถภาพระดับจังหวัด (http://www.pfr.nhso.go.th/pfr) ซึ่งโปรแกรมนี้สํานักงานหลักประกันสุขภาพแห่งชาติ ได้พัฒนาขึ้นเพื่อให้กองทุนฟื้นฟูสมรรถภาพระดับจังหวัด ได้ใช้ประโยชน์ในการกํากําติดตามผลการดําเนินงาน การบันทึกการรับเงิน การเก็บรักษาเงิน การจ่ายเงินการจัดทําบัญชี และรายงานของกองทุนฟื้นฟูสมรรภาพ ระดับจังหวัด ทั้งนี้ รายการบริการฟื้นฟูสมรรถภาพด้านการแพทย์ และรายการอุปกรณ์เครื่องช่วยสําหรับคนพิการ รายการอื่นๆ นอกเหนือจากรายการดังกล่าวข้างต้น สํานักงานหลักประกันสุขภาพแห่งชาติจะจ่ายชดเชยค่าบริการให้กับหน่วยบริการ ตามรายการและอัตราที่กําหนด เช่นเดียวกับจังหวัดที่ไม่มีกองทุนฟื้นฟูสมรรถภาพ ระดับจังหวัด Q&A Q : ผู้ป่วยเป็นผู้ทุพพลภาพ ได้ข่าวสปสช.คุ้มครองเรื่อง บริการพาหนะรับส่ง ผู้ทุพพลภาพ จริงหรือไม่ ? A : คุ้มครองกรณีรับส่งต่อระหว่างหน่วยบริการ ในกรณีหน่วยบริการเกินศักยภาพหรืิอเตียงเต็ม (ไม่ได้คุ้มครองกรณีให้รถพยาบาลมารับ-ส่งที่บ้าน หากกรณีฉุกเฉินให้โทรเรียกรถ 1669 หรือประสานรถพยาบาลของเทศบาล อบต.ในพื้นที่(ถ้ามี) อีกครั้งเพื่อช่วยเหลือ)\""
      ]
     },
     "execution_count": 274,
     "metadata": {},
     "output_type": "execute_result"
    }
   ],
   "source": [
    "passage[0]"
   ]
  },
  {
   "cell_type": "code",
   "execution_count": 12,
   "metadata": {},
   "outputs": [],
   "source": [
    "data_path = '/Users/kong/Documents/mod/RAG_CC67/folder_rag/Data.csv'\n",
    "# path = \"file/folder_rag/\"\n",
    "# for i in glob.glob(path + '*.docx'):\n",
    "#     # print(i)\n",
    "#     upadate_new_docx(i,data_path)"
   ]
  },
  {
   "cell_type": "code",
   "execution_count": 13,
   "metadata": {},
   "outputs": [
    {
     "data": {
      "text/html": [
       "<div>\n",
       "<style scoped>\n",
       "    .dataframe tbody tr th:only-of-type {\n",
       "        vertical-align: middle;\n",
       "    }\n",
       "\n",
       "    .dataframe tbody tr th {\n",
       "        vertical-align: top;\n",
       "    }\n",
       "\n",
       "    .dataframe thead th {\n",
       "        text-align: right;\n",
       "    }\n",
       "</style>\n",
       "<table border=\"1\" class=\"dataframe\">\n",
       "  <thead>\n",
       "    <tr style=\"text-align: right;\">\n",
       "      <th></th>\n",
       "      <th>File_name</th>\n",
       "      <th>File_path</th>\n",
       "      <th>Passage</th>\n",
       "    </tr>\n",
       "  </thead>\n",
       "  <tbody>\n",
       "    <tr>\n",
       "      <th>0</th>\n",
       "      <td>ตรวจคัดกรองมะเร็งปากมดลูก</td>\n",
       "      <td>file/folder_rag/ตรวจคัดกรองมะเร็งปากมดลูก.docx</td>\n",
       "      <td>ตรวจคัดกรองมะเร็งปากมดลูก กลุ่มเป้าหมาย : หญิ...</td>\n",
       "    </tr>\n",
       "    <tr>\n",
       "      <th>1</th>\n",
       "      <td>การใช้สิทธิย่อยคนพิการ</td>\n",
       "      <td>file/folder_rag/การใช้สิทธิย่อยคนพิการ.docx</td>\n",
       "      <td>การใช้สิทธิย่อยคนพิการ (ท74) 1.กลุ่มเป้าหมาย ...</td>\n",
       "    </tr>\n",
       "    <tr>\n",
       "      <th>2</th>\n",
       "      <td>สิทธิไม่ตรงตามจริง ติดสิทธิประกันสังคม</td>\n",
       "      <td>file/folder_rag/สิทธิไม่ตรงตามจริง ติดสิทธิประ...</td>\n",
       "      <td>ติดสิทธิประกันสังคม (สิทธิไม่ตรงตามจริง) กลุ่...</td>\n",
       "    </tr>\n",
       "    <tr>\n",
       "      <th>3</th>\n",
       "      <td>บริการฟื้นฟูสมรรถภาพด้านการแพทย์</td>\n",
       "      <td>file/folder_rag/บริการฟื้นฟูสมรรถภาพด้านการแพท...</td>\n",
       "      <td>บริการฟื้นฟูสมรรถภาพด้านการแพทย์ 1. คนพิการได...</td>\n",
       "    </tr>\n",
       "    <tr>\n",
       "      <th>4</th>\n",
       "      <td>การใช้สิทธิว่าง</td>\n",
       "      <td>file/folder_rag/การใช้สิทธิว่าง.docx</td>\n",
       "      <td>การใช้สิทธิว่าง (มาตรา8 ตามพ.ร.บ.หลักประกันสุ...</td>\n",
       "    </tr>\n",
       "  </tbody>\n",
       "</table>\n",
       "</div>"
      ],
      "text/plain": [
       "                                File_name  \\\n",
       "0               ตรวจคัดกรองมะเร็งปากมดลูก   \n",
       "1                  การใช้สิทธิย่อยคนพิการ   \n",
       "2  สิทธิไม่ตรงตามจริง ติดสิทธิประกันสังคม   \n",
       "3        บริการฟื้นฟูสมรรถภาพด้านการแพทย์   \n",
       "4                         การใช้สิทธิว่าง   \n",
       "\n",
       "                                           File_path  \\\n",
       "0     file/folder_rag/ตรวจคัดกรองมะเร็งปากมดลูก.docx   \n",
       "1        file/folder_rag/การใช้สิทธิย่อยคนพิการ.docx   \n",
       "2  file/folder_rag/สิทธิไม่ตรงตามจริง ติดสิทธิประ...   \n",
       "3  file/folder_rag/บริการฟื้นฟูสมรรถภาพด้านการแพท...   \n",
       "4               file/folder_rag/การใช้สิทธิว่าง.docx   \n",
       "\n",
       "                                             Passage  \n",
       "0   ตรวจคัดกรองมะเร็งปากมดลูก กลุ่มเป้าหมาย : หญิ...  \n",
       "1   การใช้สิทธิย่อยคนพิการ (ท74) 1.กลุ่มเป้าหมาย ...  \n",
       "2   ติดสิทธิประกันสังคม (สิทธิไม่ตรงตามจริง) กลุ่...  \n",
       "3   บริการฟื้นฟูสมรรถภาพด้านการแพทย์ 1. คนพิการได...  \n",
       "4   การใช้สิทธิว่าง (มาตรา8 ตามพ.ร.บ.หลักประกันสุ...  "
      ]
     },
     "execution_count": 13,
     "metadata": {},
     "output_type": "execute_result"
    }
   ],
   "source": [
    "data = pd.read_csv(data_path)\n",
    "data"
   ]
  },
  {
   "cell_type": "code",
   "execution_count": 14,
   "metadata": {},
   "outputs": [
    {
     "name": "stderr",
     "output_type": "stream",
     "text": [
      "/Users/kong/Documents/mod/.venv/lib/python3.9/site-packages/tqdm/auto.py:21: TqdmWarning: IProgress not found. Please update jupyter and ipywidgets. See https://ipywidgets.readthedocs.io/en/stable/user_install.html\n",
      "  from .autonotebook import tqdm as notebook_tqdm\n"
     ]
    }
   ],
   "source": [
    "from openai import OpenAI\n",
    "from tenacity import retry, wait_random_exponential, stop_after_attempt\n",
    "import tiktoken\n",
    "# from tqdm import tqdm\n",
    "from tqdm.auto import tqdm  # for notebooks\n",
    "import string\n",
    "# from FlagEmbedding import BGEM3FlagModel\n",
    "import numpy as np\n",
    "tqdm.pandas()\n",
    "os.environ[\"OPENTYPHOON_API_KEY\"] = \"sk-PLQ1EWaCPQZc0guiwHdCQMYUe3GsTZGFEdg3uLI2qcRKz4mA\"\n",
    "client = OpenAI(api_key=os.environ[\"OPENTYPHOON_API_KEY\"], base_url=\"https://api.opentyphoon.ai/v1\")"
   ]
  },
  {
   "cell_type": "code",
   "execution_count": 15,
   "metadata": {},
   "outputs": [],
   "source": [
    "yn_prompt = '''\n",
    "You are an Assistant responsible for helping detect whether the retrieved document is relevant to the query. For a given input, you need to output a single token: \"Yes\" or \"No\" indicating the retrieved document is relevant to the query.\n",
    "\n",
    "Query: How to plant a tree?\n",
    "Document: \"\"\"Cars were invented in 1886, when German inventor Carl Benz patented his Benz Patent-Motorwagen.[3][4][5] Cars became widely available during the 20th century. One of the first cars affordable by the masses was the 1908 Model T, an American car manufactured by the Ford Motor Company. Cars were rapidly adopted in the US, where they replaced horse-drawn carriages.[6] In Europe and other parts of the world, demand for automobiles did not increase until after World War II.[7] The car is considered an essential part of the developed economy.\"\"\"\n",
    "Relevant: No\n",
    "\n",
    "Query: Has the coronavirus vaccine been approved?\n",
    "Document: \"\"\"The Pfizer-BioNTech COVID-19 vaccine was approved for emergency use in the United States on December 11, 2020.\"\"\"\n",
    "Relevant: Yes\n",
    "\n",
    "Query: What is the capital of France?\n",
    "Document: \"\"\"Paris, France's capital, is a major European city and a global center for art, fashion, gastronomy and culture. Its 19th-century cityscape is crisscrossed by wide boulevards and the River Seine. Beyond such landmarks as the Eiffel Tower and the 12th-century, Gothic Notre-Dame cathedral, the city is known for its cafe culture and designer boutiques along the Rue du Faubourg Saint-Honoré.\"\"\"\n",
    "Relevant: Yes\n",
    "\n",
    "Query: What are some papers to learn about PPO reinforcement learning?\n",
    "Document: \"\"\"Proximal Policy Optimization and its Dynamic Version for Sequence Generation: In sequence generation task, many works use policy gradient for model optimization to tackle the intractable backpropagation issue when maximizing the non-differentiable evaluation metrics or fooling the discriminator in adversarial learning. In this paper, we replace policy gradient with proximal policy optimization (PPO), which is a proved more efficient reinforcement learning algorithm, and propose a dynamic approach for PPO (PPO-dynamic). We demonstrate the efficacy of PPO and PPO-dynamic on conditional sequence generation tasks including synthetic experiment and chit-chat chatbot. The results show that PPO and PPO-dynamic can beat policy gradient by stability and performance.\"\"\"\n",
    "Relevant: Yes\n",
    "\n",
    "Query: Explain sentence embeddings\n",
    "Document: \"\"\"Inside the bubble: exploring the environments of reionisation-era Lyman-α emitting galaxies with JADES and FRESCO: We present a study of the environments of 16 Lyman-α emitting galaxies (LAEs) in the reionisation era (5.8<z<8) identified by JWST/NIRSpec as part of the JWST Advanced Deep Extragalactic Survey (JADES). Unless situated in sufficiently (re)ionised regions, Lyman-α emission from these galaxies would be strongly absorbed by neutral gas in the intergalactic medium (IGM). We conservatively estimate sizes of the ionised regions required to reconcile the relatively low Lyman-α velocity offsets (ΔvLyα<300kms−1) with moderately high Lyman-α escape fractions (fesc,Lyα>5%) observed in our sample of LAEs, indicating the presence of ionised ``bubbles'' with physical sizes of the order of 0.1pMpc≲Rion≲1pMpc in a patchy reionisation scenario where the bubbles are embedded in a fully neutral IGM. Around half of the LAEs in our sample are found to coincide with large-scale galaxy overdensities seen in FRESCO at z∼5.8-5.9 and z∼7.3, suggesting Lyman-α transmission is strongly enhanced in such overdense regions, and underlining the importance of LAEs as tracers of the first large-scale ionised bubbles. Considering only spectroscopically confirmed galaxies, we find our sample of UV-faint LAEs (MUV≳−20mag) and their direct neighbours are generally not able to produce the required ionised regions based on the Lyman-α transmission properties, suggesting lower-luminosity sources likely play an important role in carving out these bubbles. These observations demonstrate the combined power of JWST multi-object and slitless spectroscopy in acquiring a unique view of the early stages of Cosmic Reionisation via the most distant LAEs.\"\"\"\n",
    "Relevant: No\n",
    "\n",
    "Query: {query}\n",
    "Document: \"\"\"{document}\"\"\"\n",
    "Relevant:\n",
    "'''"
   ]
  },
  {
   "cell_type": "code",
   "execution_count": 16,
   "metadata": {},
   "outputs": [],
   "source": [
    "list_document ='''TITLE: {title} \n",
    "DOCUMENT: \"\"\"\"{document}\"\"\"'''\n",
    "\n",
    "ans_prompt ='''\n",
    "You are a helpful assistant that must try your best effort to answer the user question ALWAYS following this guidelines:\n",
    "\n",
    "Keep your answer ground in the facts provided in DOCUMENT section.\n",
    "If the DOCUMENT section doesn’t contain the facts to answer the QUESTION ALWAYS return [NONE].\n",
    "\n",
    "{template}\n",
    "\n",
    "QUESTION: {question}\n",
    "ANSWER:\n",
    "'''"
   ]
  },
  {
   "cell_type": "code",
   "execution_count": 17,
   "metadata": {},
   "outputs": [],
   "source": [
    "extract_prompt = \"\"\"QUESTION\n",
    "{query}\n",
    "\n",
    "DOCUMENT\n",
    "{document}\n",
    "\n",
    "INSTRUCTIONS\n",
    "Read the QUESTION carefully.\n",
    "Examine the DOCUMENT section for any passages that provide the facts required to answer the QUESTION.\n",
    "If the DOCUMENT contains the necessary information, extract and return the relevant passage.\n",
    "If the DOCUMENT does not contain the necessary information, return [NONE].\n",
    "Your extracted passage or [NONE] must directly address the QUESTION.\n",
    "OUTPUT\n",
    "\n",
    "\"\"\""
   ]
  },
  {
   "cell_type": "code",
   "execution_count": 18,
   "metadata": {},
   "outputs": [],
   "source": [
    "@retry(wait=wait_random_exponential(min=1, max=40), stop=stop_after_attempt(3))\n",
    "def retrival_70b(query,document):\n",
    "    response = client.chat.completions.create(\n",
    "        model=\"typhoon-v1.5x-70b-instruct\",\n",
    "        messages=[{\"role\": \"user\", \"content\": yn_prompt.format(query=query, document=document)}],\n",
    "        max_tokens=1,\n",
    "        temperature= 0,\n",
    "        top_p = 0.9\n",
    "    )\n",
    "\n",
    "    return response.choices[0].message.content\n",
    "\n",
    "# @retry(wait=wait_random_exponential(min=1, max=40), stop=stop_after_attempt(3))\n",
    "def extract_passage(query,document):\n",
    "    response = client.chat.completions.create(\n",
    "        model=\"typhoon-v1.5x-70b-instruct\",\n",
    "        messages=[{\"role\": \"user\", \"content\": extract_prompt.format(query=query, document=document)}],\n",
    "        # max_tokens=1,\n",
    "        temperature= 0.3,\n",
    "        top_p = 0.9\n",
    "    )\n",
    "\n",
    "    return response.choices[0].message.content\n",
    "\n",
    "def clean_yn(text):\n",
    "    text = text.lower()\n",
    "    text = re.sub(r'[^\\w\\s]', '', text)\n",
    "    text = text.translate(str.maketrans('', '', string.digits))\n",
    "    return text.strip()\n",
    "\n",
    "def answer(question,template):\n",
    "    response = client.chat.completions.create(\n",
    "        model=\"typhoon-v1.5x-70b-instruct\",\n",
    "        messages=[{\"role\": \"user\", \"content\": ans_prompt.format(question=question, template=template)}],\n",
    "        max_tokens=4096,\n",
    "        temperature= 0.3,\n",
    "        top_p = 0.9\n",
    "    )\n",
    "\n",
    "    return response.choices[0].message.content\n",
    "\n",
    "def chat_rag(query,docs):\n",
    "    global temp\n",
    "    f_yn = []\n",
    "    for i in docs['Passage']:\n",
    "        f_yn.append(clean_yn(retrival_70b(query,i)))\n",
    "    if 'yes' in f_yn:\n",
    "        idx = [i for i,x in enumerate(f_yn) if x=='yes']\n",
    "    else:\n",
    "        return 'None'\n",
    "    print(idx)\n",
    "    contents = []\n",
    "    for content in docs['Passage'][idx]:\n",
    "        print(content)\n",
    "        Ans = extract_passage(query,content)\n",
    "        contents.append(Ans)\n",
    "        print(Ans)\n",
    "    template = '\\n'.join([list_document.format(title=i, document = j) for i,j in zip(docs['File_name'][idx],contents)])\n",
    "    ans = answer(query,template)\n",
    "    if clean_yn(ans) == 'none':\n",
    "        return ans\n",
    "    else: \n",
    "        return (ans,idx)\n",
    "    "
   ]
  },
  {
   "cell_type": "code",
   "execution_count": 19,
   "metadata": {},
   "outputs": [
    {
     "name": "stdout",
     "output_type": "stream",
     "text": [
      "[0]\n",
      " ตรวจคัดกรองมะเร็งปากมดลูก กลุ่มเป้าหมาย : หญิงที่มีสัญชาติไทย มีเลขบัตรประจําตัวประชาชน 13 หลัก ทุกสิทธิการรักษา รวมถึงสิทธิว่าง (ยกเว้นต่างด้าว) 1. อายุ 30 - 59 ปี ทุกคน 2. อายุ 15-29 ปีที่มีความเสี่ยงสูง ทั้งนี้ขึ้นอยู่ดุลยพินิจของแพทย์สั่งตรวจคัดกรอง เช่น มีคู่นอนหลายคน มีเพศสัมพันธ์ตั้งแต่อายุยังน้อย หรือมีเพศสัมพันธ์โดยไม่ใส่ถุงยางอนามัย หมายเหตุ : สปสช.ประชาสัมพันธ์ผ่าน Facebook live เชิญชวน หากมีผู้ประกอบการ บริษัท โรงงาน หน่วยงาน องค์กรต่างๆ ฯลฯ ติดต่อมา 1330 ต้องการให้หน่วยบริการลงพื้นที่เพื่อตรวจคัดกรองมะเร็งปากลูกหรือตรวจด้วยตนเองด้วยวิธี HPV Self test ให้กับพนักงานหญิงจํานวนมาก ให้1330 รับเรื่องเข้ามาก่อน เปิดประเด็นบริการ--->การตรวจคัดกรองมะเร็งปากมดลูก ---โอนทีมคุ้มครองสิทธิ ทางทีมคุ้มครองสิทธิจะประสานสปสช.เขตในพื้นที่เพื่อจัดหาหน่วยบริการลงพื้นที่ตรวจให้ //กรณีพื้นที่กทม. เงื่อนไขคือ จะต้องมีพนักงานหญิง อายุ 30-59 ปี จํานวน 30 คนขึ้นไป ให้1330 รับเรื่องเข้ามาและทีมคุ้มครองสิทธิ ประสานคุณรุ่งระวี เจ้าหน้าที่สปสช. กทม ได้เลย (อัปเดต 15/1/67 เวลา 14.00 น.) ข่าวเริ่มแคมเปญ”ตรวจมะเร็งปากมดลูกด้วยตัวเอง”สปสช.ชวนผู้ประกอบการติดต่อ 1330 ประสานจัดบริการแก่ พนง. https://www.nhso.go.th/news/4180 วิธีการใช้สิทธิ แสดงบัตรประจําตัวประชาชน / เด็กอายุต่ํากว่า 15 ปี ใช้สูติบัตรหรือบัตรประจําตัวประชาชนเด็กเข้ารับบริการ ดังนี้ กทม.---- > ติดต่อ ศูนย์/คลินิก ตจว. ----- >ติดต่อ รพ.สต./รพ.รัฐใกล้บ้าน หรือจองคิวเข้ารับบริการผ่านแอปเป๋าตัง ปัจจุบันให้ประชาชนคนไทยทุกสิทธิการรักษาสามารถจองได้ หมายเหตุ ไม่ต้องแนะนํา รพ.ระดับตติยภูมิใหญ่ๆ / รพ.โรงเรียนแพทย์ /รพ.สังกัดกระทรวงศึกษาธิการ มหาวิทยาลัยต่างๆ เช่น รพ.ศิริราช รพ.รามาธิบดี รพ.จุฬาลงกรณ์ รพ.ราชวิถี รพ.พระมงกุฎเกล้า รพ.สมเด็จพระปิ่นเกล้า รพ.ธรรมศาสตร์ เป็นต้น เพื่อลดความแออัด ยกเว้น ผู้รับบริการไปอยู่หน้างานแล้ว หากมีปัญหาการใช้สิทธิให้รับเรื่องประสาน สิทธิประโยชน์ : ตรวจคัดกรองมะเร็งปากมดลูก ได้ 1 ครั้ง/ 5 ปี ซึ่งการตรวจคัดกรองมี 3 วิธี ได้แก่ ตารางมีคอลัมน์ ['รายการ', 'รายละเอียด']: [{'รายการ': '1. วิธี Pap smear (แป๊บ สเมียร์)', 'รายละเอียด': 'คือ วิธีการตรวจคัดกรองหาระยะก่อนเป็นมะเร็งปากมดลูก แพทย์จะใช้เครื่องมือสอดผ่านและถ่างช่องคลอด จากนั้นทําการป้ายเซลล์จากมดลูกส่งตรวจทางห้องปฏิบัติการเพื่อตรวจหาเซลล์ที่ผิดปกติ'}, {'รายการ': '2. วิธี visual inspection with acetic acid (VIA)', 'รายละเอียด': 'คือ การตรวจด้วยน้ําส้มสายชู (Visual inspection with acetic acid: VIA) เพื่อคัดกรองรอยโรคก่อนมะเร็งปากมดลูกโดยการใช้สารละลาย Acetic acid เจือจาง 3-5% ชโลมบนปากมดลูกนาน 1 นาที แล้วสังเกตดูการเปลี่ยนแปลงของสีเยื่อบุปากมดลูกหน่วยบริการที่จะให้บริการตรวจคัดกรองด้วยวิธี VIA ต้องเป็นหน่วยเดิมที่เคยดําเนินการอยู่ใน 32 จังหวัด ได้แก่ ร้อยเอ็ด หนองคาย บึงกาฬ อํานาจเจริญ ยโสธร สุราษฎร์ธานี อุตรดิตถ์ เชียงใหม่ นครศรีธรรมราช น่าน เพชรบูรณ์ ตาก กระบี่ ลพบุรี สระแก้ว สมุทรปราการ สระบุรี แม่ฮ่องสอน ตรัง สตูล สมุทรสาคร ชัยนาท อําเภอนิคมคําสร้อยจังหวัดมุกดาหาร พิษณุโลก นครสวรรค์ นครราชสีมา ราชบุรี ชลบุรี อุบลราชธานี ขอนแก่น ยะลา และกําแพงเพชร'}, {'รายการ': '3. วิธี HPV DNA Test', 'รายละเอียด': 'คือ การตรวจหาดีเอ็นเอของเชื้อไวรัสเอชพีวีที่ก่อให้เกิดมะเร็งปากมดลูก วิธีนี้มีความไวในการตรวจหาเซลล์ผิดปกติสูงมาก โดยมีวิธีการตรวจเหมือนตรวจภายใน คือเก็บเซลล์บริเวณตัวอย่างที่ปากมดลูกช่องคลอดด้านใน ส่งตรวจเหมือนวิธีการตรวจด้วยน้ํายา ซึ่งสามารถที่จะตรวจหาเซลล์และแยกน้ํายาเพื่อจะตรวจหาเชื้อ HPV DNA'}, {'รายการ': 'หมายเหตุ : การเลือกวิธีตรวจคัดกรองขึ้นกับดุลพินิจของแพทย์ แพทย์จะประเมินตามความเหมาะสม', 'รายละเอียด': 'หมายเหตุ : การเลือกวิธีตรวจคัดกรองขึ้นกับดุลพินิจของแพทย์ แพทย์จะประเมินตามความเหมาะสม'}] 📌 ช่องทางการตรวจสอบสิทธิประโยชน์บริการสร้างเสริมสุขภาพ PP (พีพี แพลตฟอร์ม) ด้วยตนเอง มี 3 ช่องทาง ดังนี้ (เมื่อวันที่ 10 ส.ค. 66 ที่ผ่านมา สปสช.ชวนคนไทย \"\"เช็คสิทธิตรวจสุขภาพฟรี\" ผ่านช่องทางใหม่ เรียกว่า \"พีพี แพลตฟอร์ม\") ➡️ 1. ช่องทาง ไลน์ OA สปสช. @nhso ➡️ 2. ช่องทาง แอปพลิเคชั่น สปสช. ➡️ 3. หน้าเว็บไซต์หลัก สปสช. 5.1. ขั้นตอนการเข้าใช้งานแต่ละช่องทางมีขั้นตอน ดังนี้ ➡️ 1. ช่องทาง ไลน์ OA สปสช. @nhso ⏩ เลือก เมนู เช็คสิทธิ ตรวจสุขภาพฟรี ➡️ 2. ช่องทาง แอปพลิเคชั่น สปสช. ⏩ เลือก เมนู เช็คสิทธิบริการ สร้างเสริมสุขภาพ ➡️ 3. ช่องทาง หน้าเว็บไซต์หลัก สปสช. www.nhso.go.th เลือกเมนู ⏩ เช็คสิทธิบริการสร้างเสริมสุขภาพ บริการสร้างเสริมสุขภาพและป้องกันโรค ⏩ ลิงก์เข้าใช้งาน https://ppplatform.nhso.go.th/web/form/login ⏩ Login เข้าใช้งาน ⏩ กรอกเลขบัตรประชาชน วัน/เดือน/ปี เกิด จากนั้นกดบันทึกข้อมูล ⏩ ระบบจะโชว์หัวข้อ สร้างเสริมสุขภาพและป้องกันโรค โดยประชาชนสามารถคลิกเข้าไปตรวจสอบได้ว่า รับบริการใดได้บ้าง เมื่อเลือกบริการเรียบร้อยแล้ว ระบบจะโชว์หน่วยบริการใกล้เคียงให้ทราบว่ามีหน่วยบริการใดบ้าง ช่องทางดังกล่าว จะดูบริการ PP ได้เท่านั้น แต่ไม่สามารถจองรับบริการได้ หากประชาชนต้องการจอง แนะนําจองผ่าน App เป๋าตัง หรือเข้ารับบริการหน่วยบริการในระบบ สปสช. ตามเงื่อนไข อัตราการจ่ายชดเชย การบันทึกเบิกของหน่วยบริการ 1. หน่วยบริการที่ขึ้นทะเบียนกับ สปสช.เขต 1 - 12 ให้บันทึกข้อมูลการคัดกรองมะเร็งปากมดลูก ผ่านโปรแกรม e-Claim มายัง สปสช. ทุกเดือนหรือทุกวัน 2. หน่วยบริการที่ขึ้นทะเบียนกับ สปสช.เขต 13 กทม. ให้บันทึกข้อมูลการคัดกรองมะเร็งปากมดลูก ผ่านโปรแกรม Krungthai Digital Health Platform ตารางมีคอลัมน์ ['รายการ', 'ครั้งละ (บาท)']: [{'รายการ': '1. pap smear', 'ครั้งละ (บาท)': '250'}, {'รายการ': '2. visual inspection with acetic acid (VIA)', 'ครั้งละ (บาท)': '250'}, {'รายการ': '3. HPV DNA Test', 'ครั้งละ (บาท)': '1. ค่าบริการเก็บตัวอย่าง จ่ายแบบเหมาจ่าย ในอัตรา 50 บาทต่อครั้ง2. ค่าตรวจทางห้องปฏิบัติการ รวมค่าบริหารจัดการ- กรณีใช้น้ํายาตรวจชนิด 2 สายพันธุ์ (HPV type16,18 other) จ่ายแบบเหมาจ่าย ในอัตรา 280 บาทต่อครั้ง- กรณีใช้น้ํายาตรวจชนิดตั้งแต่ 14 สายพันธุ์ขึ้นไป (HPV 14 type fully ) จ่ายแบบเหมาจ่าย ในอัตรา 370 บาทต่อครั้ง'}, {'รายการ': '4. การตรวจยืนยันกรณีผลตรวจคัดกรองมะเร็งปากมดลูกผิดปกติ ได้แก่ - การตรวจด้วยวิธี Liquid base cytology (LBC) - บริการตรวจยืนยันด้วยวิธี Colposcope รวมการตัดชิ้นเนื้อ (Biopsy หรือ LEEP) และตรวจทางพยาธิวิทยา', 'ครั้งละ (บาท)': '250 900'}]\n",
      "Pap smear คือ วิธีการตรวจคัดกรองหาระยะก่อนเป็นมะเร็งปากมดลูก แพทย์จะใช้เครื่องมือสอดผ่านและถ่างช่องคลอด จากนั้นทําการป้ายเซลล์จากมดลูกส่งตรวจทางห้องปฏิบัติการเพื่อตรวจหาเซลล์ที่ผิดปกติ\n"
     ]
    },
    {
     "data": {
      "text/plain": [
       "('Pap smear คือ วิธีการตรวจคัดกรองหาระยะก่อนเป็นมะเร็งปากมดลูก โดยแพทย์จะใช้เครื่องมือสอดผ่านและถ่างช่องคลอด จากนั้นทำการป้ายเซลล์จากมดลูกส่งตรวจทางห้องปฏิบัติการเพื่อตรวจหาเซลล์ที่ผิดปกติ',\n",
       " [0])"
      ]
     },
     "execution_count": 19,
     "metadata": {},
     "output_type": "execute_result"
    }
   ],
   "source": [
    "tb = chat_rag('pep smear คืออะไร',data)\n",
    "tb"
   ]
  },
  {
   "cell_type": "code",
   "execution_count": null,
   "metadata": {},
   "outputs": [],
   "source": []
  }
 ],
 "metadata": {
  "kernelspec": {
   "display_name": ".venv",
   "language": "python",
   "name": "python3"
  },
  "language_info": {
   "codemirror_mode": {
    "name": "ipython",
    "version": 3
   },
   "file_extension": ".py",
   "mimetype": "text/x-python",
   "name": "python",
   "nbconvert_exporter": "python",
   "pygments_lexer": "ipython3",
   "version": "3.9.6"
  }
 },
 "nbformat": 4,
 "nbformat_minor": 2
}
